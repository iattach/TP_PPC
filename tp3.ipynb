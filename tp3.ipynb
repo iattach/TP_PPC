{
 "cells": [
  {
   "cell_type": "markdown",
   "metadata": {},
   "source": [
    "# Tutorial 3 - Boosting Search via Symmetry Breaking, Implied Constraints, Randomisation, and Restarts "
   ]
  },
  {
   "cell_type": "markdown",
   "metadata": {},
   "source": [
    "**Important:** Please do not read untill you fully finish the first 2 tutorials.\n",
    "\n",
    "Congratulations! You are now level one constraint programmer: you know the basics on how to model a problem, how to display solutions, how to evaluate models, and how to choose a good branching strategy! **I'm so proud of you!**\n",
    "\n",
    "In this tutorial we slowly dive into advanced techniques. We also start to use arithmetic constraints and solve optimisation problems."
   ]
  },
  {
   "cell_type": "code",
   "execution_count": null,
   "metadata": {},
   "outputs": [],
   "source": [
    "from config import setup\n",
    "setup()"
   ]
  },
  {
   "cell_type": "markdown",
   "metadata": {},
   "source": [
    "## 1. Golomb ruler\n",
    "\n",
    "Your goal is to place $N$ marks on a ruler, such that no two marks are at the same distance and the total length of the ruler (the position of the last mark) is minimized. \n",
    "\n",
    "<div class=\"row\" style=\"margin-top: 10px\">\n",
    "    <img src=\"display/images/Golomb_Ruler-4.svg\" style=\"display: block; margin: auto; width: 400px;\" />\n",
    "    <p style=\"margin: auto; margin-top: 10px; text-align: center;\">Golomb ruler of order 4 and length 6. This ruler is both optimal and perfect.</p>\n",
    "</div>\n",
    "\n",
    "Golomb ruler can be used in information theory to design error correcting codes or in telecommunications to avoid interferences during radio communications. You can read about it here: https://en.wikipedia.org/wiki/Golomb_ruler"
   ]
  },
  {
   "cell_type": "markdown",
   "metadata": {},
   "source": [
    "<div class=\"alert alert-block alert-danger\">\n",
    "    \n",
    "In the rest of this tutorial (except the last part), please use the following parameter when solving your model:\n",
    "\n",
    "```python\n",
    "SearchType= \"DepthFirst\"\n",
    "```\n",
    "    \n",
    "</div>\n",
    "\n",
    "In order to control the level of filtering (arc consistency, bound consistency, forward checking, etc), CPoptimizer uses a parameter called [`DefaultInferenceLevel`](http://ibmdecisionoptimization.github.io/docplex-doc/cp/docplex.cp.parameters.py.html?highlight=defaultinferencelevel#docplex.cp.parameters.CpoParameters.DefaultInferenceLevel).\n",
    "\n",
    "In the rest of this tutorial, you are required to test all three possibilities:\n",
    "\n",
    "```python\n",
    "DefaultInferenceLevel=Low\n",
    "DefaultInferenceLevel=Medium\n",
    "DefaultInferenceLevel=Extended\n",
    "```\n",
    "\n",
    "<div class=\"alert alert-block alert-info\">\n",
    "\n",
    "After a while, if you see one that you particularly find efficient (runtime), you can use it for the rest of the tutorial.\n",
    "    \n",
    "</div>"
   ]
  },
  {
   "cell_type": "markdown",
   "metadata": {},
   "source": [
    "We are going to create a model for the decision version of this problem, that is, given $n$ marks, and a ruler of size $m$, place the $n$ markers such that no two markers are at the same distance.\n",
    "\n",
    "You are free to use any constraint you want. However, you must declare and use the minimum ammount of constraints (**NOT A SINGLE UNNESSASARY CONSTRAINT**).\n",
    "\n",
    "<div class=\"alert alert-block alert-success\">\n",
    "    \n",
    "Note that for N marks, a ruler of length $2 ^ {N -1}$ can be found (I let you figure out why).\n",
    "    \n",
    "</div>\n",
    "\n",
    "**Exercice:** Write a funtion `decision_model(n, m)` that builds and returns the corresponding model. "
   ]
  },
  {
   "cell_type": "code",
   "execution_count": null,
   "metadata": {},
   "outputs": [],
   "source": [
    "from docplex.cp.model import CpoModel\n",
    "\n",
    "def decision_model(n: int, m: int) -> CpoModel:\n",
    "    ...  # TODO"
   ]
  },
  {
   "cell_type": "markdown",
   "metadata": {},
   "source": [
    "**Exercice:** Solve the problem for $n=4$ and $m=6$. Then try different values of $n$ and $m$ (but do not waste too much time). \n",
    "\n",
    "<div class=\"alert alert-block alert-info\">\n",
    "\n",
    "You can display the solution using:\n",
    "    \n",
    "```python\n",
    "from display import golomb as display_golomb\n",
    "\n",
    "# marks is the list of variables\n",
    "display_golomb([sol[m] for m in marks])\n",
    "```\n",
    "    \n",
    "</div>"
   ]
  },
  {
   "cell_type": "code",
   "execution_count": null,
   "metadata": {},
   "outputs": [],
   "source": []
  },
  {
   "cell_type": "markdown",
   "metadata": {},
   "source": [
    "**Exercice:** Print and display all the sulutions for $(n, m) = (4, 6)$ and $(4,7)$."
   ]
  },
  {
   "cell_type": "code",
   "execution_count": null,
   "metadata": {},
   "outputs": [],
   "source": []
  },
  {
   "cell_type": "markdown",
   "metadata": {},
   "source": [
    "**Exercice:** Write a funtion `basic_optimisation_model(n)` that builds and returns the corresponding model for the\n",
    "optimisation problem. Note that an optimisation function can be seen as a variable. In order to specify the variable to optimise, we can simply use: \n",
    "\n",
    "```python\n",
    "model.add(model.minimize(myvariable))\n",
    "```\n",
    "\n",
    "or \n",
    "\n",
    "```python\n",
    "model.add(model.maximize(myvariable))\n",
    "```\n"
   ]
  },
  {
   "cell_type": "code",
   "execution_count": null,
   "metadata": {},
   "outputs": [],
   "source": [
    "def basic_optimisation_model(n: int) -> CpoModel:\n",
    "    ...  # TODO"
   ]
  },
  {
   "cell_type": "markdown",
   "metadata": {},
   "source": [
    "**Exercice:** Solve the optimisation problem for $n = 6, \\ldots{}, 10$  and display the solutions."
   ]
  },
  {
   "cell_type": "code",
   "execution_count": null,
   "metadata": {},
   "outputs": [],
   "source": []
  },
  {
   "cell_type": "markdown",
   "metadata": {},
   "source": [
    "## 2. Symmetry Breaking\n",
    "\n",
    "In combinatorial optimisation, two (partial) solutions are called symmetric if we can find a transformation from one to the other. \n",
    "Consider our golomb ruler problem. Given any solution to the marks variables, if the first mark is not at index $0$, we can always shift everything to the left to start from $0$ and still have a solution. \n",
    "\n",
    "Constraint programming is extremely flexible to handle symmetries since they can be declared as constraints. \n",
    "\n",
    "In the case of the above symmetry, we can simply add a constraint to force the first mark to be at position `0`:\n",
    "\n",
    "```python\n",
    "model.add (marks[0]==0)\n",
    "```\n",
    "\n",
    "**Exercice:** This problem has another symmetry, can you find it? In order to help you, display the solution for $n=4$ and $m=6$ for the decision problem. You should find 2 solutions that are essentially the same. Can you find the symmetry? How can we model this symmetry as a constraint? "
   ]
  },
  {
   "cell_type": "raw",
   "metadata": {},
   "source": []
  },
  {
   "cell_type": "markdown",
   "metadata": {},
   "source": [
    "**Exercice:** Write a new function `nosymmetry_optimisation_model(n)` that builds a noew model that avoids the two symmetries we found so far. "
   ]
  },
  {
   "cell_type": "code",
   "execution_count": null,
   "metadata": {},
   "outputs": [],
   "source": [
    "def nosymmetry_optimisation_model(n: int) -> CpoModel:\n",
    "    ...  # TODO"
   ]
  },
  {
   "cell_type": "markdown",
   "metadata": {},
   "source": [
    "**Exercice:** Compare `nosymmetry_optimisation_model` and `basic_optimisation_model` for different values of $n$ (you decide the values of $n$). Plot the runtime and the search tree size."
   ]
  },
  {
   "cell_type": "code",
   "execution_count": null,
   "metadata": {},
   "outputs": [],
   "source": []
  },
  {
   "cell_type": "markdown",
   "metadata": {},
   "source": [
    "**Question:** What is your impression about symmetries? "
   ]
  },
  {
   "cell_type": "raw",
   "metadata": {},
   "source": []
  },
  {
   "cell_type": "markdown",
   "metadata": {},
   "source": [
    "## 3. Implied Constraints"
   ]
  },
  {
   "cell_type": "markdown",
   "metadata": {},
   "source": [
    "An implied constraint is one that can be dedused by looking at the original constraints of the problem. \n",
    "For instance, if we have $a<b $ and $b<c$, one can infer that $a<c$. \n",
    "\n",
    "Such constraints (called also redundant constraints) can help the solver to prune further the search tree. \n",
    "\n",
    "**Question:** In our problem there is one implied constraint. Can you find it? Please check with of the supervisors. "
   ]
  },
  {
   "cell_type": "raw",
   "metadata": {},
   "source": []
  },
  {
   "cell_type": "markdown",
   "metadata": {},
   "source": [
    "**Exercice:** Write a new function `nosymmetry2_optimisation_model(n)` that adds the implied constraint to the `nosymmetry_optimisation_model(n)` and returns the new model."
   ]
  },
  {
   "cell_type": "code",
   "execution_count": null,
   "metadata": {},
   "outputs": [],
   "source": [
    "def nosymmetry2_optimisation_model(n: int) -> CpoModel:\n",
    "    ...  # TODO"
   ]
  },
  {
   "cell_type": "markdown",
   "metadata": {},
   "source": [
    "**Exercice:** Compare `nosymmetry2_optimisation_model` and `nosymmetry_optimisation_model`. "
   ]
  },
  {
   "cell_type": "code",
   "execution_count": null,
   "metadata": {},
   "outputs": [],
   "source": []
  },
  {
   "cell_type": "markdown",
   "metadata": {},
   "source": [
    "## 4. Randomisation and Restarts"
   ]
  },
  {
   "cell_type": "markdown",
   "metadata": {},
   "source": [
    "**Exercice:** Declare two search strategies: one that uses a lexicographical order on both variables and values, \n",
    "and the other using an impact-based choice on the variables with a random value selection."
   ]
  },
  {
   "cell_type": "code",
   "execution_count": null,
   "metadata": {},
   "outputs": [],
   "source": []
  },
  {
   "cell_type": "markdown",
   "metadata": {},
   "source": [
    "**Exercice:** Run the two strategies using the `nosymmetry2_optimisation_model` for different values of $n$."
   ]
  },
  {
   "cell_type": "code",
   "execution_count": null,
   "metadata": {},
   "outputs": [],
   "source": []
  },
  {
   "cell_type": "markdown",
   "metadata": {},
   "source": [
    "Combinatorial search exhibits usually a bad behaviour in the runtime distribution called **heavy tailed phenomenon**. \n",
    "That is, at any node of the search tree, there is a non-negligeable probability that the time needed to explore the current subtree is heavier than \n",
    "an exponential distribution (you can read about it here https://aaai.org/Papers/AAAI/1998/AAAI98-061.pdf. \n",
    "\n",
    "\n",
    "A simple solution to deal with such a bad behaviour is to restart search from time to time. \n",
    "CPOptimizer offers this choice by using the parameter: \n",
    "    \n",
    "```python\n",
    "SearchType=\"Restart\"\n",
    "```"
   ]
  },
  {
   "cell_type": "markdown",
   "metadata": {},
   "source": [
    "**Exercice:** Using a restart search, evaluate the two strategies mentionned above using the `nosymmetry2_optimisation_model` for different values of $n$. What can you conclude?"
   ]
  },
  {
   "cell_type": "code",
   "execution_count": null,
   "metadata": {},
   "outputs": [],
   "source": []
  },
  {
   "cell_type": "markdown",
   "metadata": {},
   "source": [
    "**Exercice:** What is the maximum value of $n$ for which you can solve this problem? Use all your techniques! "
   ]
  },
  {
   "cell_type": "code",
   "execution_count": null,
   "metadata": {},
   "outputs": [],
   "source": []
  },
  {
   "cell_type": "markdown",
   "metadata": {},
   "source": [
    "## 5. Conclusion\n",
    "\n",
    "**Question:** What did you learn today? "
   ]
  },
  {
   "cell_type": "raw",
   "metadata": {},
   "source": []
  },
  {
   "cell_type": "markdown",
   "metadata": {},
   "source": [
    "<div class=\"alert alert-block alert-danger\"></div>"
   ]
  }
 ],
 "metadata": {
  "kernelspec": {
   "display_name": "Python 3",
   "language": "python",
   "name": "python3"
  },
  "language_info": {
   "codemirror_mode": {
    "name": "ipython",
    "version": 3
   },
   "file_extension": ".py",
   "mimetype": "text/x-python",
   "name": "python",
   "nbconvert_exporter": "python",
   "pygments_lexer": "ipython3",
   "version": "3.7.2"
  }
 },
 "nbformat": 4,
 "nbformat_minor": 2
}
